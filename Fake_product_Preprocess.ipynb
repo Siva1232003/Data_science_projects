{
 "cells": [
  {
   "cell_type": "code",
   "execution_count": 1,
   "metadata": {},
   "outputs": [
    {
     "name": "stdout",
     "output_type": "stream",
     "text": [
      "Loading and preprocessing data...\n",
      "X_train: (6096, 224, 224, 3), y_train: (6096,)\n",
      "Number of classes: 8\n",
      "Training model...\n"
     ]
    },
    {
     "name": "stderr",
     "output_type": "stream",
     "text": [
      "c:\\Users\\Sri_S\\AppData\\Local\\Programs\\Python\\Python311\\Lib\\site-packages\\keras\\src\\trainers\\data_adapters\\py_dataset_adapter.py:121: UserWarning: Your `PyDataset` class should call `super().__init__(**kwargs)` in its constructor. `**kwargs` can include `workers`, `use_multiprocessing`, `max_queue_size`. Do not pass these arguments to `fit()`, as they will be ignored.\n",
      "  self._warn_if_super_not_called()\n"
     ]
    },
    {
     "name": "stdout",
     "output_type": "stream",
     "text": [
      "Epoch 1/100\n",
      "\u001b[1m153/153\u001b[0m \u001b[32m━━━━━━━━━━━━━━━━━━━━\u001b[0m\u001b[37m\u001b[0m \u001b[1m0s\u001b[0m 754ms/step - accuracy: 0.2770 - loss: 18.6957 - precision: 0.4518 - recall: 0.0321"
     ]
    },
    {
     "name": "stderr",
     "output_type": "stream",
     "text": [
      "WARNING:absl:You are saving your model as an HDF5 file via `model.save()` or `keras.saving.save_model(model)`. This file format is considered legacy. We recommend using instead the native Keras format, e.g. `model.save('my_model.keras')` or `keras.saving.save_model(model, 'my_model.keras')`. \n"
     ]
    },
    {
     "name": "stdout",
     "output_type": "stream",
     "text": [
      "\u001b[1m153/153\u001b[0m \u001b[32m━━━━━━━━━━━━━━━━━━━━\u001b[0m\u001b[37m\u001b[0m \u001b[1m158s\u001b[0m 891ms/step - accuracy: 0.2775 - loss: 18.6862 - precision: 0.4535 - recall: 0.0325 - val_accuracy: 0.1680 - val_loss: 15.1297 - val_precision: 0.0000e+00 - val_recall: 0.0000e+00 - learning_rate: 1.0000e-04\n",
      "Epoch 2/100\n",
      "\u001b[1m153/153\u001b[0m \u001b[32m━━━━━━━━━━━━━━━━━━━━\u001b[0m\u001b[37m\u001b[0m \u001b[1m0s\u001b[0m 731ms/step - accuracy: 0.5031 - loss: 13.4568 - precision: 0.7231 - recall: 0.2950"
     ]
    },
    {
     "name": "stderr",
     "output_type": "stream",
     "text": [
      "WARNING:absl:You are saving your model as an HDF5 file via `model.save()` or `keras.saving.save_model(model)`. This file format is considered legacy. We recommend using instead the native Keras format, e.g. `model.save('my_model.keras')` or `keras.saving.save_model(model, 'my_model.keras')`. \n"
     ]
    },
    {
     "name": "stdout",
     "output_type": "stream",
     "text": [
      "\u001b[1m153/153\u001b[0m \u001b[32m━━━━━━━━━━━━━━━━━━━━\u001b[0m\u001b[37m\u001b[0m \u001b[1m125s\u001b[0m 814ms/step - accuracy: 0.5034 - loss: 13.4503 - precision: 0.7232 - recall: 0.2954 - val_accuracy: 0.5066 - val_loss: 10.9017 - val_precision: 0.7205 - val_recall: 0.1902 - learning_rate: 1.0000e-04\n",
      "Epoch 3/100\n",
      "\u001b[1m153/153\u001b[0m \u001b[32m━━━━━━━━━━━━━━━━━━━━\u001b[0m\u001b[37m\u001b[0m \u001b[1m0s\u001b[0m 694ms/step - accuracy: 0.6132 - loss: 9.8647 - precision: 0.7667 - recall: 0.4710"
     ]
    },
    {
     "name": "stderr",
     "output_type": "stream",
     "text": [
      "WARNING:absl:You are saving your model as an HDF5 file via `model.save()` or `keras.saving.save_model(model)`. This file format is considered legacy. We recommend using instead the native Keras format, e.g. `model.save('my_model.keras')` or `keras.saving.save_model(model, 'my_model.keras')`. \n"
     ]
    },
    {
     "name": "stdout",
     "output_type": "stream",
     "text": [
      "\u001b[1m153/153\u001b[0m \u001b[32m━━━━━━━━━━━━━━━━━━━━\u001b[0m\u001b[37m\u001b[0m \u001b[1m118s\u001b[0m 773ms/step - accuracy: 0.6133 - loss: 9.8602 - precision: 0.7668 - recall: 0.4711 - val_accuracy: 0.7434 - val_loss: 7.6329 - val_precision: 0.8101 - val_recall: 0.6574 - learning_rate: 1.0000e-04\n",
      "Epoch 4/100\n",
      "\u001b[1m153/153\u001b[0m \u001b[32m━━━━━━━━━━━━━━━━━━━━\u001b[0m\u001b[37m\u001b[0m \u001b[1m0s\u001b[0m 706ms/step - accuracy: 0.6640 - loss: 7.3369 - precision: 0.7846 - recall: 0.5471"
     ]
    },
    {
     "name": "stderr",
     "output_type": "stream",
     "text": [
      "WARNING:absl:You are saving your model as an HDF5 file via `model.save()` or `keras.saving.save_model(model)`. This file format is considered legacy. We recommend using instead the native Keras format, e.g. `model.save('my_model.keras')` or `keras.saving.save_model(model, 'my_model.keras')`. \n"
     ]
    },
    {
     "name": "stdout",
     "output_type": "stream",
     "text": [
      "\u001b[1m153/153\u001b[0m \u001b[32m━━━━━━━━━━━━━━━━━━━━\u001b[0m\u001b[37m\u001b[0m \u001b[1m120s\u001b[0m 786ms/step - accuracy: 0.6640 - loss: 7.3338 - precision: 0.7846 - recall: 0.5472 - val_accuracy: 0.7680 - val_loss: 5.7437 - val_precision: 0.8399 - val_recall: 0.6795 - learning_rate: 1.0000e-04\n",
      "Epoch 5/100\n",
      "\u001b[1m153/153\u001b[0m \u001b[32m━━━━━━━━━━━━━━━━━━━━\u001b[0m\u001b[37m\u001b[0m \u001b[1m0s\u001b[0m 706ms/step - accuracy: 0.7025 - loss: 5.5245 - precision: 0.7990 - recall: 0.6108"
     ]
    },
    {
     "name": "stderr",
     "output_type": "stream",
     "text": [
      "WARNING:absl:You are saving your model as an HDF5 file via `model.save()` or `keras.saving.save_model(model)`. This file format is considered legacy. We recommend using instead the native Keras format, e.g. `model.save('my_model.keras')` or `keras.saving.save_model(model, 'my_model.keras')`. \n"
     ]
    },
    {
     "name": "stdout",
     "output_type": "stream",
     "text": [
      "\u001b[1m153/153\u001b[0m \u001b[32m━━━━━━━━━━━━━━━━━━━━\u001b[0m\u001b[37m\u001b[0m \u001b[1m120s\u001b[0m 786ms/step - accuracy: 0.7025 - loss: 5.5223 - precision: 0.7989 - recall: 0.6108 - val_accuracy: 0.8025 - val_loss: 4.2897 - val_precision: 0.8574 - val_recall: 0.7393 - learning_rate: 1.0000e-04\n",
      "Epoch 6/100\n",
      "\u001b[1m153/153\u001b[0m \u001b[32m━━━━━━━━━━━━━━━━━━━━\u001b[0m\u001b[37m\u001b[0m \u001b[1m0s\u001b[0m 702ms/step - accuracy: 0.7281 - loss: 4.1883 - precision: 0.8181 - recall: 0.6452"
     ]
    },
    {
     "name": "stderr",
     "output_type": "stream",
     "text": [
      "WARNING:absl:You are saving your model as an HDF5 file via `model.save()` or `keras.saving.save_model(model)`. This file format is considered legacy. We recommend using instead the native Keras format, e.g. `model.save('my_model.keras')` or `keras.saving.save_model(model, 'my_model.keras')`. \n"
     ]
    },
    {
     "name": "stdout",
     "output_type": "stream",
     "text": [
      "\u001b[1m153/153\u001b[0m \u001b[32m━━━━━━━━━━━━━━━━━━━━\u001b[0m\u001b[37m\u001b[0m \u001b[1m120s\u001b[0m 784ms/step - accuracy: 0.7281 - loss: 4.1867 - precision: 0.8181 - recall: 0.6452 - val_accuracy: 0.8090 - val_loss: 3.2740 - val_precision: 0.8509 - val_recall: 0.7811 - learning_rate: 1.0000e-04\n",
      "Epoch 7/100\n",
      "\u001b[1m153/153\u001b[0m \u001b[32m━━━━━━━━━━━━━━━━━━━━\u001b[0m\u001b[37m\u001b[0m \u001b[1m0s\u001b[0m 704ms/step - accuracy: 0.7524 - loss: 3.2269 - precision: 0.8268 - recall: 0.6840"
     ]
    },
    {
     "name": "stderr",
     "output_type": "stream",
     "text": [
      "WARNING:absl:You are saving your model as an HDF5 file via `model.save()` or `keras.saving.save_model(model)`. This file format is considered legacy. We recommend using instead the native Keras format, e.g. `model.save('my_model.keras')` or `keras.saving.save_model(model, 'my_model.keras')`. \n"
     ]
    },
    {
     "name": "stdout",
     "output_type": "stream",
     "text": [
      "\u001b[1m153/153\u001b[0m \u001b[32m━━━━━━━━━━━━━━━━━━━━\u001b[0m\u001b[37m\u001b[0m \u001b[1m120s\u001b[0m 784ms/step - accuracy: 0.7524 - loss: 3.2258 - precision: 0.8268 - recall: 0.6840 - val_accuracy: 0.8377 - val_loss: 2.4942 - val_precision: 0.8758 - val_recall: 0.8033 - learning_rate: 1.0000e-04\n",
      "Epoch 8/100\n",
      "\u001b[1m153/153\u001b[0m \u001b[32m━━━━━━━━━━━━━━━━━━━━\u001b[0m\u001b[37m\u001b[0m \u001b[1m0s\u001b[0m 698ms/step - accuracy: 0.7584 - loss: 2.5485 - precision: 0.8322 - recall: 0.6959"
     ]
    },
    {
     "name": "stderr",
     "output_type": "stream",
     "text": [
      "WARNING:absl:You are saving your model as an HDF5 file via `model.save()` or `keras.saving.save_model(model)`. This file format is considered legacy. We recommend using instead the native Keras format, e.g. `model.save('my_model.keras')` or `keras.saving.save_model(model, 'my_model.keras')`. \n"
     ]
    },
    {
     "name": "stdout",
     "output_type": "stream",
     "text": [
      "\u001b[1m153/153\u001b[0m \u001b[32m━━━━━━━━━━━━━━━━━━━━\u001b[0m\u001b[37m\u001b[0m \u001b[1m119s\u001b[0m 778ms/step - accuracy: 0.7585 - loss: 2.5476 - precision: 0.8322 - recall: 0.6959 - val_accuracy: 0.8221 - val_loss: 2.0096 - val_precision: 0.8560 - val_recall: 0.7943 - learning_rate: 1.0000e-04\n",
      "Epoch 9/100\n",
      "\u001b[1m153/153\u001b[0m \u001b[32m━━━━━━━━━━━━━━━━━━━━\u001b[0m\u001b[37m\u001b[0m \u001b[1m0s\u001b[0m 691ms/step - accuracy: 0.7782 - loss: 2.0409 - precision: 0.8360 - recall: 0.7224"
     ]
    },
    {
     "name": "stderr",
     "output_type": "stream",
     "text": [
      "WARNING:absl:You are saving your model as an HDF5 file via `model.save()` or `keras.saving.save_model(model)`. This file format is considered legacy. We recommend using instead the native Keras format, e.g. `model.save('my_model.keras')` or `keras.saving.save_model(model, 'my_model.keras')`. \n"
     ]
    },
    {
     "name": "stdout",
     "output_type": "stream",
     "text": [
      "\u001b[1m153/153\u001b[0m \u001b[32m━━━━━━━━━━━━━━━━━━━━\u001b[0m\u001b[37m\u001b[0m \u001b[1m119s\u001b[0m 779ms/step - accuracy: 0.7782 - loss: 2.0403 - precision: 0.8360 - recall: 0.7224 - val_accuracy: 0.8180 - val_loss: 1.6663 - val_precision: 0.8470 - val_recall: 0.7984 - learning_rate: 1.0000e-04\n",
      "Epoch 10/100\n",
      "\u001b[1m153/153\u001b[0m \u001b[32m━━━━━━━━━━━━━━━━━━━━\u001b[0m\u001b[37m\u001b[0m \u001b[1m0s\u001b[0m 692ms/step - accuracy: 0.7900 - loss: 1.6646 - precision: 0.8413 - recall: 0.7338"
     ]
    },
    {
     "name": "stderr",
     "output_type": "stream",
     "text": [
      "WARNING:absl:You are saving your model as an HDF5 file via `model.save()` or `keras.saving.save_model(model)`. This file format is considered legacy. We recommend using instead the native Keras format, e.g. `model.save('my_model.keras')` or `keras.saving.save_model(model, 'my_model.keras')`. \n"
     ]
    },
    {
     "name": "stdout",
     "output_type": "stream",
     "text": [
      "\u001b[1m153/153\u001b[0m \u001b[32m━━━━━━━━━━━━━━━━━━━━\u001b[0m\u001b[37m\u001b[0m \u001b[1m118s\u001b[0m 771ms/step - accuracy: 0.7900 - loss: 1.6642 - precision: 0.8413 - recall: 0.7338 - val_accuracy: 0.8402 - val_loss: 1.3259 - val_precision: 0.8709 - val_recall: 0.8180 - learning_rate: 1.0000e-04\n",
      "Epoch 11/100\n",
      "\u001b[1m153/153\u001b[0m \u001b[32m━━━━━━━━━━━━━━━━━━━━\u001b[0m\u001b[37m\u001b[0m \u001b[1m0s\u001b[0m 693ms/step - accuracy: 0.7909 - loss: 1.4100 - precision: 0.8394 - recall: 0.7378"
     ]
    },
    {
     "name": "stderr",
     "output_type": "stream",
     "text": [
      "WARNING:absl:You are saving your model as an HDF5 file via `model.save()` or `keras.saving.save_model(model)`. This file format is considered legacy. We recommend using instead the native Keras format, e.g. `model.save('my_model.keras')` or `keras.saving.save_model(model, 'my_model.keras')`. \n"
     ]
    },
    {
     "name": "stdout",
     "output_type": "stream",
     "text": [
      "\u001b[1m153/153\u001b[0m \u001b[32m━━━━━━━━━━━━━━━━━━━━\u001b[0m\u001b[37m\u001b[0m \u001b[1m119s\u001b[0m 774ms/step - accuracy: 0.7909 - loss: 1.4096 - precision: 0.8394 - recall: 0.7378 - val_accuracy: 0.8393 - val_loss: 1.1431 - val_precision: 0.8620 - val_recall: 0.8246 - learning_rate: 1.0000e-04\n",
      "Epoch 12/100\n",
      "\u001b[1m153/153\u001b[0m \u001b[32m━━━━━━━━━━━━━━━━━━━━\u001b[0m\u001b[37m\u001b[0m \u001b[1m0s\u001b[0m 694ms/step - accuracy: 0.7892 - loss: 1.2389 - precision: 0.8368 - recall: 0.7375"
     ]
    },
    {
     "name": "stderr",
     "output_type": "stream",
     "text": [
      "WARNING:absl:You are saving your model as an HDF5 file via `model.save()` or `keras.saving.save_model(model)`. This file format is considered legacy. We recommend using instead the native Keras format, e.g. `model.save('my_model.keras')` or `keras.saving.save_model(model, 'my_model.keras')`. \n"
     ]
    },
    {
     "name": "stdout",
     "output_type": "stream",
     "text": [
      "\u001b[1m153/153\u001b[0m \u001b[32m━━━━━━━━━━━━━━━━━━━━\u001b[0m\u001b[37m\u001b[0m \u001b[1m119s\u001b[0m 774ms/step - accuracy: 0.7893 - loss: 1.2385 - precision: 0.8368 - recall: 0.7376 - val_accuracy: 0.8500 - val_loss: 0.9426 - val_precision: 0.8781 - val_recall: 0.8328 - learning_rate: 1.0000e-04\n",
      "Epoch 13/100\n",
      "\u001b[1m153/153\u001b[0m \u001b[32m━━━━━━━━━━━━━━━━━━━━\u001b[0m\u001b[37m\u001b[0m \u001b[1m0s\u001b[0m 702ms/step - accuracy: 0.8247 - loss: 1.0079 - precision: 0.8657 - recall: 0.7784"
     ]
    },
    {
     "name": "stderr",
     "output_type": "stream",
     "text": [
      "WARNING:absl:You are saving your model as an HDF5 file via `model.save()` or `keras.saving.save_model(model)`. This file format is considered legacy. We recommend using instead the native Keras format, e.g. `model.save('my_model.keras')` or `keras.saving.save_model(model, 'my_model.keras')`. \n"
     ]
    },
    {
     "name": "stdout",
     "output_type": "stream",
     "text": [
      "\u001b[1m153/153\u001b[0m \u001b[32m━━━━━━━━━━━━━━━━━━━━\u001b[0m\u001b[37m\u001b[0m \u001b[1m120s\u001b[0m 782ms/step - accuracy: 0.8246 - loss: 1.0079 - precision: 0.8656 - recall: 0.7783 - val_accuracy: 0.8451 - val_loss: 0.8472 - val_precision: 0.8701 - val_recall: 0.8287 - learning_rate: 1.0000e-04\n",
      "Epoch 14/100\n",
      "\u001b[1m153/153\u001b[0m \u001b[32m━━━━━━━━━━━━━━━━━━━━\u001b[0m\u001b[37m\u001b[0m \u001b[1m0s\u001b[0m 693ms/step - accuracy: 0.8208 - loss: 0.9284 - precision: 0.8565 - recall: 0.7743"
     ]
    },
    {
     "name": "stderr",
     "output_type": "stream",
     "text": [
      "WARNING:absl:You are saving your model as an HDF5 file via `model.save()` or `keras.saving.save_model(model)`. This file format is considered legacy. We recommend using instead the native Keras format, e.g. `model.save('my_model.keras')` or `keras.saving.save_model(model, 'my_model.keras')`. \n"
     ]
    },
    {
     "name": "stdout",
     "output_type": "stream",
     "text": [
      "\u001b[1m153/153\u001b[0m \u001b[32m━━━━━━━━━━━━━━━━━━━━\u001b[0m\u001b[37m\u001b[0m \u001b[1m119s\u001b[0m 774ms/step - accuracy: 0.8208 - loss: 0.9282 - precision: 0.8565 - recall: 0.7743 - val_accuracy: 0.8615 - val_loss: 0.7471 - val_precision: 0.8811 - val_recall: 0.8385 - learning_rate: 1.0000e-04\n",
      "Epoch 15/100\n",
      "\u001b[1m153/153\u001b[0m \u001b[32m━━━━━━━━━━━━━━━━━━━━\u001b[0m\u001b[37m\u001b[0m \u001b[1m0s\u001b[0m 700ms/step - accuracy: 0.8159 - loss: 0.8247 - precision: 0.8568 - recall: 0.7790"
     ]
    },
    {
     "name": "stderr",
     "output_type": "stream",
     "text": [
      "WARNING:absl:You are saving your model as an HDF5 file via `model.save()` or `keras.saving.save_model(model)`. This file format is considered legacy. We recommend using instead the native Keras format, e.g. `model.save('my_model.keras')` or `keras.saving.save_model(model, 'my_model.keras')`. \n"
     ]
    },
    {
     "name": "stdout",
     "output_type": "stream",
     "text": [
      "\u001b[1m153/153\u001b[0m \u001b[32m━━━━━━━━━━━━━━━━━━━━\u001b[0m\u001b[37m\u001b[0m \u001b[1m119s\u001b[0m 780ms/step - accuracy: 0.8160 - loss: 0.8246 - precision: 0.8568 - recall: 0.7790 - val_accuracy: 0.8467 - val_loss: 0.7395 - val_precision: 0.8679 - val_recall: 0.8238 - learning_rate: 1.0000e-04\n",
      "Epoch 16/100\n",
      "\u001b[1m153/153\u001b[0m \u001b[32m━━━━━━━━━━━━━━━━━━━━\u001b[0m\u001b[37m\u001b[0m \u001b[1m0s\u001b[0m 696ms/step - accuracy: 0.8346 - loss: 0.7420 - precision: 0.8674 - recall: 0.7998"
     ]
    },
    {
     "name": "stderr",
     "output_type": "stream",
     "text": [
      "WARNING:absl:You are saving your model as an HDF5 file via `model.save()` or `keras.saving.save_model(model)`. This file format is considered legacy. We recommend using instead the native Keras format, e.g. `model.save('my_model.keras')` or `keras.saving.save_model(model, 'my_model.keras')`. \n"
     ]
    },
    {
     "name": "stdout",
     "output_type": "stream",
     "text": [
      "\u001b[1m153/153\u001b[0m \u001b[32m━━━━━━━━━━━━━━━━━━━━\u001b[0m\u001b[37m\u001b[0m \u001b[1m119s\u001b[0m 775ms/step - accuracy: 0.8345 - loss: 0.7420 - precision: 0.8673 - recall: 0.7997 - val_accuracy: 0.8426 - val_loss: 0.6720 - val_precision: 0.8677 - val_recall: 0.8336 - learning_rate: 1.0000e-04\n",
      "Epoch 17/100\n",
      "\u001b[1m153/153\u001b[0m \u001b[32m━━━━━━━━━━━━━━━━━━━━\u001b[0m\u001b[37m\u001b[0m \u001b[1m0s\u001b[0m 698ms/step - accuracy: 0.8147 - loss: 0.7270 - precision: 0.8505 - recall: 0.7770"
     ]
    },
    {
     "name": "stderr",
     "output_type": "stream",
     "text": [
      "WARNING:absl:You are saving your model as an HDF5 file via `model.save()` or `keras.saving.save_model(model)`. This file format is considered legacy. We recommend using instead the native Keras format, e.g. `model.save('my_model.keras')` or `keras.saving.save_model(model, 'my_model.keras')`. \n"
     ]
    },
    {
     "name": "stdout",
     "output_type": "stream",
     "text": [
      "\u001b[1m153/153\u001b[0m \u001b[32m━━━━━━━━━━━━━━━━━━━━\u001b[0m\u001b[37m\u001b[0m \u001b[1m119s\u001b[0m 778ms/step - accuracy: 0.8148 - loss: 0.7268 - precision: 0.8506 - recall: 0.7770 - val_accuracy: 0.8541 - val_loss: 0.6082 - val_precision: 0.8746 - val_recall: 0.8344 - learning_rate: 1.0000e-04\n",
      "Epoch 18/100\n",
      "\u001b[1m153/153\u001b[0m \u001b[32m━━━━━━━━━━━━━━━━━━━━\u001b[0m\u001b[37m\u001b[0m \u001b[1m0s\u001b[0m 697ms/step - accuracy: 0.8371 - loss: 0.6490 - precision: 0.8699 - recall: 0.8057"
     ]
    },
    {
     "name": "stderr",
     "output_type": "stream",
     "text": [
      "WARNING:absl:You are saving your model as an HDF5 file via `model.save()` or `keras.saving.save_model(model)`. This file format is considered legacy. We recommend using instead the native Keras format, e.g. `model.save('my_model.keras')` or `keras.saving.save_model(model, 'my_model.keras')`. \n"
     ]
    },
    {
     "name": "stdout",
     "output_type": "stream",
     "text": [
      "\u001b[1m153/153\u001b[0m \u001b[32m━━━━━━━━━━━━━━━━━━━━\u001b[0m\u001b[37m\u001b[0m \u001b[1m119s\u001b[0m 776ms/step - accuracy: 0.8371 - loss: 0.6491 - precision: 0.8699 - recall: 0.8057 - val_accuracy: 0.8615 - val_loss: 0.5619 - val_precision: 0.8856 - val_recall: 0.8500 - learning_rate: 1.0000e-04\n",
      "Epoch 19/100\n",
      "\u001b[1m153/153\u001b[0m \u001b[32m━━━━━━━━━━━━━━━━━━━━\u001b[0m\u001b[37m\u001b[0m \u001b[1m119s\u001b[0m 775ms/step - accuracy: 0.8401 - loss: 0.6329 - precision: 0.8676 - recall: 0.8058 - val_accuracy: 0.8484 - val_loss: 0.5707 - val_precision: 0.8656 - val_recall: 0.8287 - learning_rate: 1.0000e-04\n",
      "Epoch 20/100\n",
      "\u001b[1m153/153\u001b[0m \u001b[32m━━━━━━━━━━━━━━━━━━━━\u001b[0m\u001b[37m\u001b[0m \u001b[1m0s\u001b[0m 699ms/step - accuracy: 0.8439 - loss: 0.5862 - precision: 0.8749 - recall: 0.8139"
     ]
    },
    {
     "name": "stderr",
     "output_type": "stream",
     "text": [
      "WARNING:absl:You are saving your model as an HDF5 file via `model.save()` or `keras.saving.save_model(model)`. This file format is considered legacy. We recommend using instead the native Keras format, e.g. `model.save('my_model.keras')` or `keras.saving.save_model(model, 'my_model.keras')`. \n"
     ]
    },
    {
     "name": "stdout",
     "output_type": "stream",
     "text": [
      "\u001b[1m153/153\u001b[0m \u001b[32m━━━━━━━━━━━━━━━━━━━━\u001b[0m\u001b[37m\u001b[0m \u001b[1m119s\u001b[0m 779ms/step - accuracy: 0.8440 - loss: 0.5862 - precision: 0.8749 - recall: 0.8139 - val_accuracy: 0.8672 - val_loss: 0.5066 - val_precision: 0.8866 - val_recall: 0.8590 - learning_rate: 1.0000e-04\n",
      "Epoch 21/100\n",
      "\u001b[1m153/153\u001b[0m \u001b[32m━━━━━━━━━━━━━━━━━━━━\u001b[0m\u001b[37m\u001b[0m \u001b[1m119s\u001b[0m 777ms/step - accuracy: 0.8559 - loss: 0.5620 - precision: 0.8818 - recall: 0.8270 - val_accuracy: 0.8623 - val_loss: 0.5116 - val_precision: 0.8826 - val_recall: 0.8500 - learning_rate: 1.0000e-04\n",
      "Epoch 22/100\n",
      "\u001b[1m153/153\u001b[0m \u001b[32m━━━━━━━━━━━━━━━━━━━━\u001b[0m\u001b[37m\u001b[0m \u001b[1m119s\u001b[0m 778ms/step - accuracy: 0.8516 - loss: 0.5422 - precision: 0.8739 - recall: 0.8230 - val_accuracy: 0.8582 - val_loss: 0.5239 - val_precision: 0.8735 - val_recall: 0.8492 - learning_rate: 1.0000e-04\n",
      "Epoch 23/100\n",
      "\u001b[1m153/153\u001b[0m \u001b[32m━━━━━━━━━━━━━━━━━━━━\u001b[0m\u001b[37m\u001b[0m \u001b[1m0s\u001b[0m 703ms/step - accuracy: 0.8612 - loss: 0.5053 - precision: 0.8881 - recall: 0.8376"
     ]
    },
    {
     "name": "stderr",
     "output_type": "stream",
     "text": [
      "WARNING:absl:You are saving your model as an HDF5 file via `model.save()` or `keras.saving.save_model(model)`. This file format is considered legacy. We recommend using instead the native Keras format, e.g. `model.save('my_model.keras')` or `keras.saving.save_model(model, 'my_model.keras')`. \n"
     ]
    },
    {
     "name": "stdout",
     "output_type": "stream",
     "text": [
      "\u001b[1m153/153\u001b[0m \u001b[32m━━━━━━━━━━━━━━━━━━━━\u001b[0m\u001b[37m\u001b[0m \u001b[1m120s\u001b[0m 784ms/step - accuracy: 0.8612 - loss: 0.5053 - precision: 0.8881 - recall: 0.8376 - val_accuracy: 0.8689 - val_loss: 0.4894 - val_precision: 0.8808 - val_recall: 0.8598 - learning_rate: 1.0000e-04\n",
      "Epoch 24/100\n",
      "\u001b[1m153/153\u001b[0m \u001b[32m━━━━━━━━━━━━━━━━━━━━\u001b[0m\u001b[37m\u001b[0m \u001b[1m0s\u001b[0m 703ms/step - accuracy: 0.8552 - loss: 0.5110 - precision: 0.8852 - recall: 0.8353"
     ]
    },
    {
     "name": "stderr",
     "output_type": "stream",
     "text": [
      "WARNING:absl:You are saving your model as an HDF5 file via `model.save()` or `keras.saving.save_model(model)`. This file format is considered legacy. We recommend using instead the native Keras format, e.g. `model.save('my_model.keras')` or `keras.saving.save_model(model, 'my_model.keras')`. \n"
     ]
    },
    {
     "name": "stdout",
     "output_type": "stream",
     "text": [
      "\u001b[1m153/153\u001b[0m \u001b[32m━━━━━━━━━━━━━━━━━━━━\u001b[0m\u001b[37m\u001b[0m \u001b[1m120s\u001b[0m 784ms/step - accuracy: 0.8552 - loss: 0.5110 - precision: 0.8852 - recall: 0.8353 - val_accuracy: 0.8721 - val_loss: 0.4757 - val_precision: 0.8841 - val_recall: 0.8631 - learning_rate: 1.0000e-04\n",
      "Epoch 25/100\n",
      "\u001b[1m153/153\u001b[0m \u001b[32m━━━━━━━━━━━━━━━━━━━━\u001b[0m\u001b[37m\u001b[0m \u001b[1m120s\u001b[0m 781ms/step - accuracy: 0.8634 - loss: 0.4762 - precision: 0.8874 - recall: 0.8422 - val_accuracy: 0.8541 - val_loss: 0.4936 - val_precision: 0.8737 - val_recall: 0.8451 - learning_rate: 1.0000e-04\n",
      "Epoch 26/100\n",
      "\u001b[1m153/153\u001b[0m \u001b[32m━━━━━━━━━━━━━━━━━━━━\u001b[0m\u001b[37m\u001b[0m \u001b[1m120s\u001b[0m 783ms/step - accuracy: 0.8659 - loss: 0.4828 - precision: 0.8913 - recall: 0.8410 - val_accuracy: 0.8533 - val_loss: 0.4985 - val_precision: 0.8754 - val_recall: 0.8467 - learning_rate: 1.0000e-04\n",
      "Epoch 27/100\n",
      "\u001b[1m153/153\u001b[0m \u001b[32m━━━━━━━━━━━━━━━━━━━━\u001b[0m\u001b[37m\u001b[0m \u001b[1m120s\u001b[0m 784ms/step - accuracy: 0.8634 - loss: 0.4765 - precision: 0.8828 - recall: 0.8431 - val_accuracy: 0.8549 - val_loss: 0.5188 - val_precision: 0.8749 - val_recall: 0.8369 - learning_rate: 1.0000e-04\n",
      "Epoch 28/100\n",
      "\u001b[1m153/153\u001b[0m \u001b[32m━━━━━━━━━━━━━━━━━━━━\u001b[0m\u001b[37m\u001b[0m \u001b[1m0s\u001b[0m 705ms/step - accuracy: 0.8771 - loss: 0.4327 - precision: 0.8949 - recall: 0.8560"
     ]
    },
    {
     "name": "stderr",
     "output_type": "stream",
     "text": [
      "WARNING:absl:You are saving your model as an HDF5 file via `model.save()` or `keras.saving.save_model(model)`. This file format is considered legacy. We recommend using instead the native Keras format, e.g. `model.save('my_model.keras')` or `keras.saving.save_model(model, 'my_model.keras')`. \n"
     ]
    },
    {
     "name": "stdout",
     "output_type": "stream",
     "text": [
      "\u001b[1m153/153\u001b[0m \u001b[32m━━━━━━━━━━━━━━━━━━━━\u001b[0m\u001b[37m\u001b[0m \u001b[1m120s\u001b[0m 786ms/step - accuracy: 0.8771 - loss: 0.4327 - precision: 0.8949 - recall: 0.8560 - val_accuracy: 0.8787 - val_loss: 0.4259 - val_precision: 0.8939 - val_recall: 0.8697 - learning_rate: 5.0000e-05\n",
      "Epoch 29/100\n",
      "\u001b[1m153/153\u001b[0m \u001b[32m━━━━━━━━━━━━━━━━━━━━\u001b[0m\u001b[37m\u001b[0m \u001b[1m120s\u001b[0m 780ms/step - accuracy: 0.8777 - loss: 0.4140 - precision: 0.8990 - recall: 0.8619 - val_accuracy: 0.8730 - val_loss: 0.4302 - val_precision: 0.8872 - val_recall: 0.8639 - learning_rate: 5.0000e-05\n",
      "Epoch 30/100\n",
      "\u001b[1m153/153\u001b[0m \u001b[32m━━━━━━━━━━━━━━━━━━━━\u001b[0m\u001b[37m\u001b[0m \u001b[1m120s\u001b[0m 783ms/step - accuracy: 0.8812 - loss: 0.4092 - precision: 0.8994 - recall: 0.8630 - val_accuracy: 0.8721 - val_loss: 0.4343 - val_precision: 0.8921 - val_recall: 0.8672 - learning_rate: 5.0000e-05\n",
      "Epoch 31/100\n",
      "\u001b[1m153/153\u001b[0m \u001b[32m━━━━━━━━━━━━━━━━━━━━\u001b[0m\u001b[37m\u001b[0m \u001b[1m120s\u001b[0m 781ms/step - accuracy: 0.8881 - loss: 0.3963 - precision: 0.9060 - recall: 0.8749 - val_accuracy: 0.8730 - val_loss: 0.4270 - val_precision: 0.8835 - val_recall: 0.8639 - learning_rate: 5.0000e-05\n",
      "Epoch 32/100\n",
      "\u001b[1m153/153\u001b[0m \u001b[32m━━━━━━━━━━━━━━━━━━━━\u001b[0m\u001b[37m\u001b[0m \u001b[1m0s\u001b[0m 711ms/step - accuracy: 0.8824 - loss: 0.3896 - precision: 0.9033 - recall: 0.8702"
     ]
    },
    {
     "name": "stderr",
     "output_type": "stream",
     "text": [
      "WARNING:absl:You are saving your model as an HDF5 file via `model.save()` or `keras.saving.save_model(model)`. This file format is considered legacy. We recommend using instead the native Keras format, e.g. `model.save('my_model.keras')` or `keras.saving.save_model(model, 'my_model.keras')`. \n"
     ]
    },
    {
     "name": "stdout",
     "output_type": "stream",
     "text": [
      "\u001b[1m153/153\u001b[0m \u001b[32m━━━━━━━━━━━━━━━━━━━━\u001b[0m\u001b[37m\u001b[0m \u001b[1m121s\u001b[0m 792ms/step - accuracy: 0.8824 - loss: 0.3896 - precision: 0.9033 - recall: 0.8702 - val_accuracy: 0.8730 - val_loss: 0.4229 - val_precision: 0.8881 - val_recall: 0.8656 - learning_rate: 2.5000e-05\n",
      "Epoch 33/100\n",
      "\u001b[1m153/153\u001b[0m \u001b[32m━━━━━━━━━━━━━━━━━━━━\u001b[0m\u001b[37m\u001b[0m \u001b[1m0s\u001b[0m 703ms/step - accuracy: 0.8932 - loss: 0.3851 - precision: 0.9118 - recall: 0.8746"
     ]
    },
    {
     "name": "stderr",
     "output_type": "stream",
     "text": [
      "WARNING:absl:You are saving your model as an HDF5 file via `model.save()` or `keras.saving.save_model(model)`. This file format is considered legacy. We recommend using instead the native Keras format, e.g. `model.save('my_model.keras')` or `keras.saving.save_model(model, 'my_model.keras')`. \n"
     ]
    },
    {
     "name": "stdout",
     "output_type": "stream",
     "text": [
      "\u001b[1m153/153\u001b[0m \u001b[32m━━━━━━━━━━━━━━━━━━━━\u001b[0m\u001b[37m\u001b[0m \u001b[1m120s\u001b[0m 784ms/step - accuracy: 0.8932 - loss: 0.3850 - precision: 0.9118 - recall: 0.8746 - val_accuracy: 0.8762 - val_loss: 0.4137 - val_precision: 0.8875 - val_recall: 0.8730 - learning_rate: 2.5000e-05\n",
      "Epoch 34/100\n",
      "\u001b[1m153/153\u001b[0m \u001b[32m━━━━━━━━━━━━━━━━━━━━\u001b[0m\u001b[37m\u001b[0m \u001b[1m121s\u001b[0m 788ms/step - accuracy: 0.8906 - loss: 0.3775 - precision: 0.9069 - recall: 0.8771 - val_accuracy: 0.8811 - val_loss: 0.4167 - val_precision: 0.8934 - val_recall: 0.8721 - learning_rate: 2.5000e-05\n",
      "Epoch 35/100\n",
      "\u001b[1m153/153\u001b[0m \u001b[32m━━━━━━━━━━━━━━━━━━━━\u001b[0m\u001b[37m\u001b[0m \u001b[1m0s\u001b[0m 716ms/step - accuracy: 0.9019 - loss: 0.3590 - precision: 0.9158 - recall: 0.8875"
     ]
    },
    {
     "name": "stderr",
     "output_type": "stream",
     "text": [
      "WARNING:absl:You are saving your model as an HDF5 file via `model.save()` or `keras.saving.save_model(model)`. This file format is considered legacy. We recommend using instead the native Keras format, e.g. `model.save('my_model.keras')` or `keras.saving.save_model(model, 'my_model.keras')`. \n"
     ]
    },
    {
     "name": "stdout",
     "output_type": "stream",
     "text": [
      "\u001b[1m153/153\u001b[0m \u001b[32m━━━━━━━━━━━━━━━━━━━━\u001b[0m\u001b[37m\u001b[0m \u001b[1m122s\u001b[0m 797ms/step - accuracy: 0.9018 - loss: 0.3591 - precision: 0.9157 - recall: 0.8874 - val_accuracy: 0.8738 - val_loss: 0.4103 - val_precision: 0.8893 - val_recall: 0.8689 - learning_rate: 2.5000e-05\n",
      "Epoch 36/100\n",
      "\u001b[1m153/153\u001b[0m \u001b[32m━━━━━━━━━━━━━━━━━━━━\u001b[0m\u001b[37m\u001b[0m \u001b[1m120s\u001b[0m 783ms/step - accuracy: 0.8961 - loss: 0.3680 - precision: 0.9112 - recall: 0.8772 - val_accuracy: 0.8795 - val_loss: 0.4155 - val_precision: 0.8929 - val_recall: 0.8746 - learning_rate: 2.5000e-05\n",
      "Epoch 37/100\n",
      "\u001b[1m153/153\u001b[0m \u001b[32m━━━━━━━━━━━━━━━━━━━━\u001b[0m\u001b[37m\u001b[0m \u001b[1m0s\u001b[0m 719ms/step - accuracy: 0.8967 - loss: 0.3633 - precision: 0.9119 - recall: 0.8794"
     ]
    },
    {
     "name": "stderr",
     "output_type": "stream",
     "text": [
      "WARNING:absl:You are saving your model as an HDF5 file via `model.save()` or `keras.saving.save_model(model)`. This file format is considered legacy. We recommend using instead the native Keras format, e.g. `model.save('my_model.keras')` or `keras.saving.save_model(model, 'my_model.keras')`. \n"
     ]
    },
    {
     "name": "stdout",
     "output_type": "stream",
     "text": [
      "\u001b[1m153/153\u001b[0m \u001b[32m━━━━━━━━━━━━━━━━━━━━\u001b[0m\u001b[37m\u001b[0m \u001b[1m123s\u001b[0m 802ms/step - accuracy: 0.8966 - loss: 0.3633 - precision: 0.9119 - recall: 0.8793 - val_accuracy: 0.8877 - val_loss: 0.4022 - val_precision: 0.8982 - val_recall: 0.8828 - learning_rate: 2.5000e-05\n",
      "Epoch 38/100\n",
      "\u001b[1m153/153\u001b[0m \u001b[32m━━━━━━━━━━━━━━━━━━━━\u001b[0m\u001b[37m\u001b[0m \u001b[1m120s\u001b[0m 786ms/step - accuracy: 0.8912 - loss: 0.3735 - precision: 0.9051 - recall: 0.8759 - val_accuracy: 0.8861 - val_loss: 0.4106 - val_precision: 0.8977 - val_recall: 0.8779 - learning_rate: 2.5000e-05\n",
      "Epoch 39/100\n",
      "\u001b[1m153/153\u001b[0m \u001b[32m━━━━━━━━━━━━━━━━━━━━\u001b[0m\u001b[37m\u001b[0m \u001b[1m0s\u001b[0m 712ms/step - accuracy: 0.9052 - loss: 0.3408 - precision: 0.9177 - recall: 0.8894"
     ]
    },
    {
     "name": "stderr",
     "output_type": "stream",
     "text": [
      "WARNING:absl:You are saving your model as an HDF5 file via `model.save()` or `keras.saving.save_model(model)`. This file format is considered legacy. We recommend using instead the native Keras format, e.g. `model.save('my_model.keras')` or `keras.saving.save_model(model, 'my_model.keras')`. \n"
     ]
    },
    {
     "name": "stdout",
     "output_type": "stream",
     "text": [
      "\u001b[1m153/153\u001b[0m \u001b[32m━━━━━━━━━━━━━━━━━━━━\u001b[0m\u001b[37m\u001b[0m \u001b[1m121s\u001b[0m 793ms/step - accuracy: 0.9052 - loss: 0.3409 - precision: 0.9177 - recall: 0.8894 - val_accuracy: 0.8836 - val_loss: 0.3997 - val_precision: 0.8965 - val_recall: 0.8803 - learning_rate: 2.5000e-05\n",
      "Epoch 40/100\n",
      "\u001b[1m153/153\u001b[0m \u001b[32m━━━━━━━━━━━━━━━━━━━━\u001b[0m\u001b[37m\u001b[0m \u001b[1m121s\u001b[0m 791ms/step - accuracy: 0.8962 - loss: 0.3482 - precision: 0.9112 - recall: 0.8857 - val_accuracy: 0.8869 - val_loss: 0.3998 - val_precision: 0.8961 - val_recall: 0.8836 - learning_rate: 2.5000e-05\n",
      "Epoch 41/100\n",
      "\u001b[1m153/153\u001b[0m \u001b[32m━━━━━━━━━━━━━━━━━━━━\u001b[0m\u001b[37m\u001b[0m \u001b[1m0s\u001b[0m 706ms/step - accuracy: 0.9056 - loss: 0.3441 - precision: 0.9158 - recall: 0.8934"
     ]
    },
    {
     "name": "stderr",
     "output_type": "stream",
     "text": [
      "WARNING:absl:You are saving your model as an HDF5 file via `model.save()` or `keras.saving.save_model(model)`. This file format is considered legacy. We recommend using instead the native Keras format, e.g. `model.save('my_model.keras')` or `keras.saving.save_model(model, 'my_model.keras')`. \n"
     ]
    },
    {
     "name": "stdout",
     "output_type": "stream",
     "text": [
      "\u001b[1m153/153\u001b[0m \u001b[32m━━━━━━━━━━━━━━━━━━━━\u001b[0m\u001b[37m\u001b[0m \u001b[1m120s\u001b[0m 786ms/step - accuracy: 0.9056 - loss: 0.3442 - precision: 0.9158 - recall: 0.8934 - val_accuracy: 0.8877 - val_loss: 0.3947 - val_precision: 0.9041 - val_recall: 0.8811 - learning_rate: 2.5000e-05\n",
      "Epoch 42/100\n",
      "\u001b[1m153/153\u001b[0m \u001b[32m━━━━━━━━━━━━━━━━━━━━\u001b[0m\u001b[37m\u001b[0m \u001b[1m124s\u001b[0m 812ms/step - accuracy: 0.8970 - loss: 0.3501 - precision: 0.9113 - recall: 0.8826 - val_accuracy: 0.8902 - val_loss: 0.3957 - val_precision: 0.9053 - val_recall: 0.8852 - learning_rate: 2.5000e-05\n",
      "Epoch 43/100\n",
      "\u001b[1m153/153\u001b[0m \u001b[32m━━━━━━━━━━━━━━━━━━━━\u001b[0m\u001b[37m\u001b[0m \u001b[1m122s\u001b[0m 796ms/step - accuracy: 0.9015 - loss: 0.3477 - precision: 0.9150 - recall: 0.8903 - val_accuracy: 0.8902 - val_loss: 0.3988 - val_precision: 0.9031 - val_recall: 0.8861 - learning_rate: 2.5000e-05\n",
      "Epoch 44/100\n",
      "\u001b[1m153/153\u001b[0m \u001b[32m━━━━━━━━━━━━━━━━━━━━\u001b[0m\u001b[37m\u001b[0m \u001b[1m124s\u001b[0m 807ms/step - accuracy: 0.9017 - loss: 0.3394 - precision: 0.9147 - recall: 0.8883 - val_accuracy: 0.8779 - val_loss: 0.4207 - val_precision: 0.8895 - val_recall: 0.8713 - learning_rate: 2.5000e-05\n",
      "Epoch 45/100\n",
      "\u001b[1m153/153\u001b[0m \u001b[32m━━━━━━━━━━━━━━━━━━━━\u001b[0m\u001b[37m\u001b[0m \u001b[1m0s\u001b[0m 747ms/step - accuracy: 0.8926 - loss: 0.3501 - precision: 0.9092 - recall: 0.8834"
     ]
    },
    {
     "name": "stderr",
     "output_type": "stream",
     "text": [
      "WARNING:absl:You are saving your model as an HDF5 file via `model.save()` or `keras.saving.save_model(model)`. This file format is considered legacy. We recommend using instead the native Keras format, e.g. `model.save('my_model.keras')` or `keras.saving.save_model(model, 'my_model.keras')`. \n"
     ]
    },
    {
     "name": "stdout",
     "output_type": "stream",
     "text": [
      "\u001b[1m153/153\u001b[0m \u001b[32m━━━━━━━━━━━━━━━━━━━━\u001b[0m\u001b[37m\u001b[0m \u001b[1m128s\u001b[0m 833ms/step - accuracy: 0.8927 - loss: 0.3500 - precision: 0.9092 - recall: 0.8834 - val_accuracy: 0.8877 - val_loss: 0.3915 - val_precision: 0.8997 - val_recall: 0.8820 - learning_rate: 1.2500e-05\n",
      "Epoch 46/100\n",
      "\u001b[1m153/153\u001b[0m \u001b[32m━━━━━━━━━━━━━━━━━━━━\u001b[0m\u001b[37m\u001b[0m \u001b[1m122s\u001b[0m 793ms/step - accuracy: 0.9033 - loss: 0.3271 - precision: 0.9150 - recall: 0.8923 - val_accuracy: 0.8861 - val_loss: 0.3939 - val_precision: 0.8997 - val_recall: 0.8828 - learning_rate: 1.2500e-05\n",
      "Epoch 47/100\n",
      "\u001b[1m153/153\u001b[0m \u001b[32m━━━━━━━━━━━━━━━━━━━━\u001b[0m\u001b[37m\u001b[0m \u001b[1m122s\u001b[0m 797ms/step - accuracy: 0.9106 - loss: 0.3184 - precision: 0.9211 - recall: 0.8981 - val_accuracy: 0.8844 - val_loss: 0.3940 - val_precision: 0.8969 - val_recall: 0.8844 - learning_rate: 1.2500e-05\n",
      "Epoch 48/100\n",
      "\u001b[1m153/153\u001b[0m \u001b[32m━━━━━━━━━━━━━━━━━━━━\u001b[0m\u001b[37m\u001b[0m \u001b[1m0s\u001b[0m 726ms/step - accuracy: 0.9062 - loss: 0.3228 - precision: 0.9183 - recall: 0.8945"
     ]
    },
    {
     "name": "stderr",
     "output_type": "stream",
     "text": [
      "WARNING:absl:You are saving your model as an HDF5 file via `model.save()` or `keras.saving.save_model(model)`. This file format is considered legacy. We recommend using instead the native Keras format, e.g. `model.save('my_model.keras')` or `keras.saving.save_model(model, 'my_model.keras')`. \n"
     ]
    },
    {
     "name": "stdout",
     "output_type": "stream",
     "text": [
      "\u001b[1m153/153\u001b[0m \u001b[32m━━━━━━━━━━━━━━━━━━━━\u001b[0m\u001b[37m\u001b[0m \u001b[1m124s\u001b[0m 809ms/step - accuracy: 0.9062 - loss: 0.3228 - precision: 0.9183 - recall: 0.8945 - val_accuracy: 0.8803 - val_loss: 0.3893 - val_precision: 0.8923 - val_recall: 0.8762 - learning_rate: 1.2500e-05\n",
      "Epoch 49/100\n",
      "\u001b[1m153/153\u001b[0m \u001b[32m━━━━━━━━━━━━━━━━━━━━\u001b[0m\u001b[37m\u001b[0m \u001b[1m0s\u001b[0m 1s/step - accuracy: 0.9109 - loss: 0.3170 - precision: 0.9182 - recall: 0.8998"
     ]
    },
    {
     "name": "stderr",
     "output_type": "stream",
     "text": [
      "WARNING:absl:You are saving your model as an HDF5 file via `model.save()` or `keras.saving.save_model(model)`. This file format is considered legacy. We recommend using instead the native Keras format, e.g. `model.save('my_model.keras')` or `keras.saving.save_model(model, 'my_model.keras')`. \n"
     ]
    },
    {
     "name": "stdout",
     "output_type": "stream",
     "text": [
      "\u001b[1m153/153\u001b[0m \u001b[32m━━━━━━━━━━━━━━━━━━━━\u001b[0m\u001b[37m\u001b[0m \u001b[1m180s\u001b[0m 1s/step - accuracy: 0.9109 - loss: 0.3170 - precision: 0.9182 - recall: 0.8997 - val_accuracy: 0.8877 - val_loss: 0.3862 - val_precision: 0.9006 - val_recall: 0.8836 - learning_rate: 1.2500e-05\n",
      "Epoch 50/100\n",
      "\u001b[1m153/153\u001b[0m \u001b[32m━━━━━━━━━━━━━━━━━━━━\u001b[0m\u001b[37m\u001b[0m \u001b[1m127s\u001b[0m 829ms/step - accuracy: 0.9155 - loss: 0.3026 - precision: 0.9274 - recall: 0.9069 - val_accuracy: 0.8844 - val_loss: 0.3868 - val_precision: 0.8974 - val_recall: 0.8820 - learning_rate: 1.2500e-05\n",
      "Epoch 51/100\n",
      "\u001b[1m153/153\u001b[0m \u001b[32m━━━━━━━━━━━━━━━━━━━━\u001b[0m\u001b[37m\u001b[0m \u001b[1m0s\u001b[0m 735ms/step - accuracy: 0.8966 - loss: 0.3439 - precision: 0.9092 - recall: 0.8835"
     ]
    },
    {
     "name": "stderr",
     "output_type": "stream",
     "text": [
      "WARNING:absl:You are saving your model as an HDF5 file via `model.save()` or `keras.saving.save_model(model)`. This file format is considered legacy. We recommend using instead the native Keras format, e.g. `model.save('my_model.keras')` or `keras.saving.save_model(model, 'my_model.keras')`. \n"
     ]
    },
    {
     "name": "stdout",
     "output_type": "stream",
     "text": [
      "\u001b[1m153/153\u001b[0m \u001b[32m━━━━━━━━━━━━━━━━━━━━\u001b[0m\u001b[37m\u001b[0m \u001b[1m126s\u001b[0m 823ms/step - accuracy: 0.8967 - loss: 0.3438 - precision: 0.9092 - recall: 0.8836 - val_accuracy: 0.8844 - val_loss: 0.3785 - val_precision: 0.9003 - val_recall: 0.8811 - learning_rate: 1.2500e-05\n",
      "Epoch 52/100\n",
      "\u001b[1m153/153\u001b[0m \u001b[32m━━━━━━━━━━━━━━━━━━━━\u001b[0m\u001b[37m\u001b[0m \u001b[1m2490s\u001b[0m 16s/step - accuracy: 0.9059 - loss: 0.3148 - precision: 0.9165 - recall: 0.8970 - val_accuracy: 0.8779 - val_loss: 0.3978 - val_precision: 0.8897 - val_recall: 0.8730 - learning_rate: 1.2500e-05\n",
      "Epoch 53/100\n",
      "\u001b[1m153/153\u001b[0m \u001b[32m━━━━━━━━━━━━━━━━━━━━\u001b[0m\u001b[37m\u001b[0m \u001b[1m119s\u001b[0m 779ms/step - accuracy: 0.9123 - loss: 0.3101 - precision: 0.9258 - recall: 0.8980 - val_accuracy: 0.8861 - val_loss: 0.3891 - val_precision: 0.8952 - val_recall: 0.8820 - learning_rate: 1.2500e-05\n",
      "Epoch 54/100\n",
      "\u001b[1m153/153\u001b[0m \u001b[32m━━━━━━━━━━━━━━━━━━━━\u001b[0m\u001b[37m\u001b[0m \u001b[1m133s\u001b[0m 866ms/step - accuracy: 0.9012 - loss: 0.3288 - precision: 0.9113 - recall: 0.8884 - val_accuracy: 0.8852 - val_loss: 0.3827 - val_precision: 0.9003 - val_recall: 0.8811 - learning_rate: 1.2500e-05\n",
      "Epoch 55/100\n",
      "\u001b[1m153/153\u001b[0m \u001b[32m━━━━━━━━━━━━━━━━━━━━\u001b[0m\u001b[37m\u001b[0m \u001b[1m211s\u001b[0m 1s/step - accuracy: 0.9048 - loss: 0.3249 - precision: 0.9133 - recall: 0.8928 - val_accuracy: 0.8885 - val_loss: 0.3811 - val_precision: 0.9014 - val_recall: 0.8844 - learning_rate: 6.2500e-06\n",
      "Epoch 56/100\n",
      "\u001b[1m153/153\u001b[0m \u001b[32m━━━━━━━━━━━━━━━━━━━━\u001b[0m\u001b[37m\u001b[0m \u001b[1m131s\u001b[0m 853ms/step - accuracy: 0.9169 - loss: 0.3033 - precision: 0.9275 - recall: 0.9065 - val_accuracy: 0.8836 - val_loss: 0.3832 - val_precision: 0.8967 - val_recall: 0.8820 - learning_rate: 6.2500e-06\n",
      "Epoch 57/100\n",
      "\u001b[1m153/153\u001b[0m \u001b[32m━━━━━━━━━━━━━━━━━━━━\u001b[0m\u001b[37m\u001b[0m \u001b[1m177s\u001b[0m 1s/step - accuracy: 0.9129 - loss: 0.3108 - precision: 0.9224 - recall: 0.9031 - val_accuracy: 0.8828 - val_loss: 0.3846 - val_precision: 0.8952 - val_recall: 0.8820 - learning_rate: 6.2500e-06\n",
      "Epoch 58/100\n",
      "\u001b[1m153/153\u001b[0m \u001b[32m━━━━━━━━━━━━━━━━━━━━\u001b[0m\u001b[37m\u001b[0m \u001b[1m120s\u001b[0m 782ms/step - accuracy: 0.9074 - loss: 0.3154 - precision: 0.9214 - recall: 0.8984 - val_accuracy: 0.8852 - val_loss: 0.3787 - val_precision: 0.8951 - val_recall: 0.8811 - learning_rate: 3.1250e-06\n",
      "Epoch 59/100\n",
      "\u001b[1m153/153\u001b[0m \u001b[32m━━━━━━━━━━━━━━━━━━━━\u001b[0m\u001b[37m\u001b[0m \u001b[1m130s\u001b[0m 846ms/step - accuracy: 0.9204 - loss: 0.2962 - precision: 0.9310 - recall: 0.9070 - val_accuracy: 0.8836 - val_loss: 0.3805 - val_precision: 0.8964 - val_recall: 0.8795 - learning_rate: 3.1250e-06\n",
      "Epoch 60/100\n",
      "\u001b[1m153/153\u001b[0m \u001b[32m━━━━━━━━━━━━━━━━━━━━\u001b[0m\u001b[37m\u001b[0m \u001b[1m129s\u001b[0m 844ms/step - accuracy: 0.9167 - loss: 0.2954 - precision: 0.9282 - recall: 0.9033 - val_accuracy: 0.8828 - val_loss: 0.3792 - val_precision: 0.8957 - val_recall: 0.8803 - learning_rate: 3.1250e-06\n",
      "Epoch 61/100\n",
      "\u001b[1m153/153\u001b[0m \u001b[32m━━━━━━━━━━━━━━━━━━━━\u001b[0m\u001b[37m\u001b[0m \u001b[1m0s\u001b[0m 2s/step - accuracy: 0.9125 - loss: 0.2994 - precision: 0.9245 - recall: 0.9041"
     ]
    },
    {
     "name": "stderr",
     "output_type": "stream",
     "text": [
      "WARNING:absl:You are saving your model as an HDF5 file via `model.save()` or `keras.saving.save_model(model)`. This file format is considered legacy. We recommend using instead the native Keras format, e.g. `model.save('my_model.keras')` or `keras.saving.save_model(model, 'my_model.keras')`. \n"
     ]
    },
    {
     "name": "stdout",
     "output_type": "stream",
     "text": [
      "\u001b[1m153/153\u001b[0m \u001b[32m━━━━━━━━━━━━━━━━━━━━\u001b[0m\u001b[37m\u001b[0m \u001b[1m326s\u001b[0m 2s/step - accuracy: 0.9125 - loss: 0.2994 - precision: 0.9245 - recall: 0.9041 - val_accuracy: 0.8836 - val_loss: 0.3783 - val_precision: 0.8958 - val_recall: 0.8811 - learning_rate: 1.5625e-06\n",
      "Epoch 62/100\n",
      "\u001b[1m153/153\u001b[0m \u001b[32m━━━━━━━━━━━━━━━━━━━━\u001b[0m\u001b[37m\u001b[0m \u001b[1m0s\u001b[0m 719ms/step - accuracy: 0.9113 - loss: 0.3074 - precision: 0.9233 - recall: 0.8991"
     ]
    },
    {
     "name": "stderr",
     "output_type": "stream",
     "text": [
      "WARNING:absl:You are saving your model as an HDF5 file via `model.save()` or `keras.saving.save_model(model)`. This file format is considered legacy. We recommend using instead the native Keras format, e.g. `model.save('my_model.keras')` or `keras.saving.save_model(model, 'my_model.keras')`. \n"
     ]
    },
    {
     "name": "stdout",
     "output_type": "stream",
     "text": [
      "\u001b[1m153/153\u001b[0m \u001b[32m━━━━━━━━━━━━━━━━━━━━\u001b[0m\u001b[37m\u001b[0m \u001b[1m124s\u001b[0m 808ms/step - accuracy: 0.9113 - loss: 0.3074 - precision: 0.9233 - recall: 0.8991 - val_accuracy: 0.8852 - val_loss: 0.3775 - val_precision: 0.8950 - val_recall: 0.8803 - learning_rate: 1.5625e-06\n",
      "Epoch 63/100\n",
      "\u001b[1m153/153\u001b[0m \u001b[32m━━━━━━━━━━━━━━━━━━━━\u001b[0m\u001b[37m\u001b[0m \u001b[1m0s\u001b[0m 767ms/step - accuracy: 0.9165 - loss: 0.3047 - precision: 0.9262 - recall: 0.9010"
     ]
    },
    {
     "name": "stderr",
     "output_type": "stream",
     "text": [
      "WARNING:absl:You are saving your model as an HDF5 file via `model.save()` or `keras.saving.save_model(model)`. This file format is considered legacy. We recommend using instead the native Keras format, e.g. `model.save('my_model.keras')` or `keras.saving.save_model(model, 'my_model.keras')`. \n"
     ]
    },
    {
     "name": "stdout",
     "output_type": "stream",
     "text": [
      "\u001b[1m153/153\u001b[0m \u001b[32m━━━━━━━━━━━━━━━━━━━━\u001b[0m\u001b[37m\u001b[0m \u001b[1m132s\u001b[0m 859ms/step - accuracy: 0.9164 - loss: 0.3048 - precision: 0.9262 - recall: 0.9010 - val_accuracy: 0.8844 - val_loss: 0.3752 - val_precision: 0.8974 - val_recall: 0.8820 - learning_rate: 1.5625e-06\n",
      "Epoch 64/100\n",
      "\u001b[1m153/153\u001b[0m \u001b[32m━━━━━━━━━━━━━━━━━━━━\u001b[0m\u001b[37m\u001b[0m \u001b[1m131s\u001b[0m 855ms/step - accuracy: 0.9148 - loss: 0.3074 - precision: 0.9256 - recall: 0.9033 - val_accuracy: 0.8852 - val_loss: 0.3760 - val_precision: 0.8961 - val_recall: 0.8836 - learning_rate: 1.5625e-06\n",
      "Epoch 65/100\n",
      "\u001b[1m153/153\u001b[0m \u001b[32m━━━━━━━━━━━━━━━━━━━━\u001b[0m\u001b[37m\u001b[0m \u001b[1m131s\u001b[0m 852ms/step - accuracy: 0.9122 - loss: 0.2942 - precision: 0.9217 - recall: 0.9036 - val_accuracy: 0.8861 - val_loss: 0.3782 - val_precision: 0.8984 - val_recall: 0.8844 - learning_rate: 1.5625e-06\n",
      "Epoch 66/100\n",
      "\u001b[1m153/153\u001b[0m \u001b[32m━━━━━━━━━━━━━━━━━━━━\u001b[0m\u001b[37m\u001b[0m \u001b[1m131s\u001b[0m 853ms/step - accuracy: 0.9087 - loss: 0.3079 - precision: 0.9199 - recall: 0.8972 - val_accuracy: 0.8869 - val_loss: 0.3772 - val_precision: 0.9006 - val_recall: 0.8836 - learning_rate: 1.5625e-06\n",
      "Epoch 67/100\n",
      "\u001b[1m153/153\u001b[0m \u001b[32m━━━━━━━━━━━━━━━━━━━━\u001b[0m\u001b[37m\u001b[0m \u001b[1m997s\u001b[0m 7s/step - accuracy: 0.9059 - loss: 0.3193 - precision: 0.9174 - recall: 0.8948 - val_accuracy: 0.8885 - val_loss: 0.3766 - val_precision: 0.9017 - val_recall: 0.8869 - learning_rate: 1.0000e-06\n",
      "Epoch 68/100\n",
      "\u001b[1m153/153\u001b[0m \u001b[32m━━━━━━━━━━━━━━━━━━━━\u001b[0m\u001b[37m\u001b[0m \u001b[1m146s\u001b[0m 953ms/step - accuracy: 0.9182 - loss: 0.2949 - precision: 0.9267 - recall: 0.9047 - val_accuracy: 0.8910 - val_loss: 0.3759 - val_precision: 0.9039 - val_recall: 0.8869 - learning_rate: 1.0000e-06\n",
      "Epoch 69/100\n",
      "\u001b[1m153/153\u001b[0m \u001b[32m━━━━━━━━━━━━━━━━━━━━\u001b[0m\u001b[37m\u001b[0m \u001b[1m119s\u001b[0m 784ms/step - accuracy: 0.9161 - loss: 0.2961 - precision: 0.9267 - recall: 0.9062 - val_accuracy: 0.8885 - val_loss: 0.3762 - val_precision: 0.9024 - val_recall: 0.8869 - learning_rate: 1.0000e-06\n",
      "Epoch 70/100\n",
      "\u001b[1m153/153\u001b[0m \u001b[32m━━━━━━━━━━━━━━━━━━━━\u001b[0m\u001b[37m\u001b[0m \u001b[1m121s\u001b[0m 788ms/step - accuracy: 0.9207 - loss: 0.2909 - precision: 0.9301 - recall: 0.9123 - val_accuracy: 0.8893 - val_loss: 0.3754 - val_precision: 0.9025 - val_recall: 0.8877 - learning_rate: 1.0000e-06\n",
      "Epoch 71/100\n",
      "\u001b[1m153/153\u001b[0m \u001b[32m━━━━━━━━━━━━━━━━━━━━\u001b[0m\u001b[37m\u001b[0m \u001b[1m0s\u001b[0m 702ms/step - accuracy: 0.9219 - loss: 0.2916 - precision: 0.9311 - recall: 0.9089"
     ]
    },
    {
     "name": "stderr",
     "output_type": "stream",
     "text": [
      "WARNING:absl:You are saving your model as an HDF5 file via `model.save()` or `keras.saving.save_model(model)`. This file format is considered legacy. We recommend using instead the native Keras format, e.g. `model.save('my_model.keras')` or `keras.saving.save_model(model, 'my_model.keras')`. \n"
     ]
    },
    {
     "name": "stdout",
     "output_type": "stream",
     "text": [
      "\u001b[1m153/153\u001b[0m \u001b[32m━━━━━━━━━━━━━━━━━━━━\u001b[0m\u001b[37m\u001b[0m \u001b[1m120s\u001b[0m 783ms/step - accuracy: 0.9219 - loss: 0.2917 - precision: 0.9311 - recall: 0.9089 - val_accuracy: 0.8885 - val_loss: 0.3750 - val_precision: 0.9032 - val_recall: 0.8869 - learning_rate: 1.0000e-06\n",
      "Epoch 72/100\n",
      "\u001b[1m153/153\u001b[0m \u001b[32m━━━━━━━━━━━━━━━━━━━━\u001b[0m\u001b[37m\u001b[0m \u001b[1m120s\u001b[0m 784ms/step - accuracy: 0.9168 - loss: 0.2920 - precision: 0.9272 - recall: 0.9103 - val_accuracy: 0.8877 - val_loss: 0.3775 - val_precision: 0.8999 - val_recall: 0.8844 - learning_rate: 1.0000e-06\n",
      "Epoch 73/100\n",
      "\u001b[1m153/153\u001b[0m \u001b[32m━━━━━━━━━━━━━━━━━━━━\u001b[0m\u001b[37m\u001b[0m \u001b[1m119s\u001b[0m 780ms/step - accuracy: 0.9242 - loss: 0.2828 - precision: 0.9333 - recall: 0.9126 - val_accuracy: 0.8885 - val_loss: 0.3768 - val_precision: 0.9015 - val_recall: 0.8852 - learning_rate: 1.0000e-06\n",
      "Epoch 74/100\n",
      "\u001b[1m153/153\u001b[0m \u001b[32m━━━━━━━━━━━━━━━━━━━━\u001b[0m\u001b[37m\u001b[0m \u001b[1m132s\u001b[0m 859ms/step - accuracy: 0.9172 - loss: 0.3004 - precision: 0.9285 - recall: 0.9062 - val_accuracy: 0.8828 - val_loss: 0.3775 - val_precision: 0.8966 - val_recall: 0.8811 - learning_rate: 1.0000e-06\n",
      "Epoch 75/100\n",
      "\u001b[1m153/153\u001b[0m \u001b[32m━━━━━━━━━━━━━━━━━━━━\u001b[0m\u001b[37m\u001b[0m \u001b[1m127s\u001b[0m 826ms/step - accuracy: 0.9085 - loss: 0.3031 - precision: 0.9174 - recall: 0.8960 - val_accuracy: 0.8852 - val_loss: 0.3765 - val_precision: 0.8989 - val_recall: 0.8820 - learning_rate: 1.0000e-06\n",
      "Epoch 76/100\n",
      "\u001b[1m153/153\u001b[0m \u001b[32m━━━━━━━━━━━━━━━━━━━━\u001b[0m\u001b[37m\u001b[0m \u001b[1m121s\u001b[0m 788ms/step - accuracy: 0.9144 - loss: 0.2883 - precision: 0.9240 - recall: 0.9048 - val_accuracy: 0.8861 - val_loss: 0.3752 - val_precision: 0.8998 - val_recall: 0.8836 - learning_rate: 1.0000e-06\n",
      "Epoch 77/100\n",
      "\u001b[1m153/153\u001b[0m \u001b[32m━━━━━━━━━━━━━━━━━━━━\u001b[0m\u001b[37m\u001b[0m \u001b[1m120s\u001b[0m 782ms/step - accuracy: 0.9176 - loss: 0.2886 - precision: 0.9288 - recall: 0.9052 - val_accuracy: 0.8869 - val_loss: 0.3762 - val_precision: 0.8983 - val_recall: 0.8836 - learning_rate: 1.0000e-06\n",
      "Epoch 78/100\n",
      "\u001b[1m153/153\u001b[0m \u001b[32m━━━━━━━━━━━━━━━━━━━━\u001b[0m\u001b[37m\u001b[0m \u001b[1m120s\u001b[0m 780ms/step - accuracy: 0.9153 - loss: 0.3021 - precision: 0.9266 - recall: 0.9053 - val_accuracy: 0.8869 - val_loss: 0.3761 - val_precision: 0.8983 - val_recall: 0.8836 - learning_rate: 1.0000e-06\n",
      "Epoch 79/100\n",
      "\u001b[1m153/153\u001b[0m \u001b[32m━━━━━━━━━━━━━━━━━━━━\u001b[0m\u001b[37m\u001b[0m \u001b[1m120s\u001b[0m 782ms/step - accuracy: 0.9065 - loss: 0.3088 - precision: 0.9189 - recall: 0.8929 - val_accuracy: 0.8844 - val_loss: 0.3764 - val_precision: 0.8983 - val_recall: 0.8836 - learning_rate: 1.0000e-06\n",
      "Epoch 80/100\n",
      "\u001b[1m153/153\u001b[0m \u001b[32m━━━━━━━━━━━━━━━━━━━━\u001b[0m\u001b[37m\u001b[0m \u001b[1m120s\u001b[0m 783ms/step - accuracy: 0.9156 - loss: 0.2948 - precision: 0.9272 - recall: 0.9053 - val_accuracy: 0.8869 - val_loss: 0.3761 - val_precision: 0.9017 - val_recall: 0.8869 - learning_rate: 1.0000e-06\n",
      "Epoch 81/100\n",
      "\u001b[1m153/153\u001b[0m \u001b[32m━━━━━━━━━━━━━━━━━━━━\u001b[0m\u001b[37m\u001b[0m \u001b[1m178s\u001b[0m 1s/step - accuracy: 0.9103 - loss: 0.3085 - precision: 0.9213 - recall: 0.8986 - val_accuracy: 0.8885 - val_loss: 0.3753 - val_precision: 0.9024 - val_recall: 0.8869 - learning_rate: 1.0000e-06\n",
      "Evaluating model...\n",
      "\u001b[1m20/20\u001b[0m \u001b[32m━━━━━━━━━━━━━━━━━━━━\u001b[0m\u001b[37m\u001b[0m \u001b[1m6s\u001b[0m 321ms/step - accuracy: 0.8666 - loss: 0.4572 - precision: 0.8726 - recall: 0.8554\n",
      "\n",
      "Test Accuracy: 85.39%\n",
      "Test Precision: 85.60%\n",
      "Test Recall: 83.95%\n"
     ]
    },
    {
     "data": {
      "image/png": "[encoded data removed]",
      "text/plain": [
       "<Figure size 1200x400 with 2 Axes>"
      ]
     },
     "metadata": {},
     "output_type": "display_data"
    },
    {
     "name": "stderr",
     "output_type": "stream",
     "text": [
      "WARNING:absl:You are saving your model as an HDF5 file via `model.save()` or `keras.saving.save_model(model)`. This file format is considered legacy. We recommend using instead the native Keras format, e.g. `model.save('my_model.keras')` or `keras.saving.save_model(model, 'my_model.keras')`. \n"
     ]
    },
    {
     "name": "stdout",
     "output_type": "stream",
     "text": [
      "Model saved as fake_product_detection_model.h5\n",
      "Class map saved as class_map.json\n"
     ]
    }
   ],
   "source": [
    "# # Import libraries\n",
    "# import os\n",
    "# import cv2\n",
    "# import numpy as np\n",
    "# from tensorflow.keras.models import Sequential\n",
    "# from tensorflow.keras.layers import Conv2D, MaxPooling2D, Flatten, Dense, Dropout\n",
    "# from tensorflow.keras.optimizers import Adam\n",
    "# from tensorflow.keras.preprocessing.image import ImageDataGenerator\n",
    "# from tensorflow.keras.utils import to_categorical\n",
    "# from sklearn.model_selection import train_test_split\n",
    "# from tensorflow.keras.callbacks import EarlyStopping\n",
    "\n",
    "# # Data paths\n",
    "# base_path = r'D:\\fake product\\Data'\n",
    "# train_path = os.path.join(base_path, 'train')\n",
    "# test_path = os.path.join(base_path, 'test')\n",
    "\n",
    "# # Correct preprocessing function\n",
    "# def preprocess_images(dataset_path, image_size=(128, 128)):\n",
    "#     images = []\n",
    "#     labels = []\n",
    "#     classes = sorted(os.listdir(dataset_path))\n",
    "#     class_map = {label: idx for idx, label in enumerate(classes)}\n",
    "    \n",
    "#     for label in classes:\n",
    "#         label_path = os.path.join(dataset_path, label)\n",
    "#         for img_name in os.listdir(label_path):\n",
    "#             img_path = os.path.join(label_path, img_name)\n",
    "#             img = cv2.imread(img_path)\n",
    "#             if img is not None:\n",
    "#                 img = cv2.cvtColor(img, cv2.COLOR_BGR2RGB)\n",
    "#                 img = cv2.resize(img, image_size)\n",
    "#                 images.append(img)\n",
    "#                 labels.append(class_map[label])\n",
    "    \n",
    "#     return np.array(images)/255.0, np.array(labels), class_map\n",
    "\n",
    "# # Load data\n",
    "# X_train, y_train, class_map = preprocess_images(train_path)\n",
    "# X_test, y_test, _ = preprocess_images(test_path)\n",
    "\n",
    "# # Verify shapes\n",
    "# print(f\"X_train: {X_train.shape}, y_train: {y_train.shape}\")\n",
    "\n",
    "# # Split data\n",
    "# X_train, X_val, y_train, y_val = train_test_split(\n",
    "#     X_train, y_train, test_size=0.2, random_state=42, stratify=y_train)\n",
    "\n",
    "# # Convert to PROPER categorical format\n",
    "# num_classes = len(class_map)\n",
    "# print(f\"Number of classes: {num_classes}\")  # Should be 2 (real/fake)\n",
    "\n",
    "# # Fix the labels - ensure they're 1D before converting\n",
    "# y_train = y_train.reshape(-1)  # Flatten if needed\n",
    "# y_val = y_val.reshape(-1)\n",
    "# y_test = y_test.reshape(-1)\n",
    "\n",
    "# y_train_cat = to_categorical(y_train, num_classes=num_classes)\n",
    "# y_val_cat = to_categorical(y_val, num_classes=num_classes)\n",
    "# y_test_cat = to_categorical(y_test, num_classes=num_classes)\n",
    "\n",
    "# # Verify fixed shapes\n",
    "# print(f\"\\nCorrected shapes:\")\n",
    "# print(f\"y_train_cat: {y_train_cat.shape} (should be N, {num_classes})\")\n",
    "\n",
    "# # Build model\n",
    "# model = Sequential([\n",
    "#     Conv2D(32, (3,3), activation='relu', input_shape=(128,128,3)),\n",
    "#     MaxPooling2D(2,2),\n",
    "#     Conv2D(64, (3,3), activation='relu'),\n",
    "#     MaxPooling2D(2,2),\n",
    "#     Conv2D(128, (3,3), activation='relu'),\n",
    "#     MaxPooling2D(2,2),\n",
    "#     Flatten(),\n",
    "#     Dense(256, activation='relu'),\n",
    "#     Dropout(0.5),\n",
    "#     Dense(num_classes, activation='softmax')\n",
    "# ])\n",
    "\n",
    "# model.compile(optimizer=Adam(learning_rate=0.0001),\n",
    "#              loss='categorical_crossentropy',\n",
    "#              metrics=['accuracy'])\n",
    "\n",
    "# # Train with augmentation\n",
    "# train_datagen = ImageDataGenerator(\n",
    "#     rotation_range=20,\n",
    "#     width_shift_range=0.2,\n",
    "#     height_shift_range=0.2,\n",
    "#     horizontal_flip=True)\n",
    "\n",
    "# history = model.fit(\n",
    "#     train_datagen.flow(X_train, y_train_cat, batch_size=32),\n",
    "#     epochs=50,\n",
    "#     validation_data=(X_val, y_val_cat),\n",
    "#     callbacks=[EarlyStopping(patience=5)],\n",
    "#     verbose=1\n",
    "# )\n",
    "\n",
    "# # Evaluate\n",
    "# test_loss, test_acc = model.evaluate(X_test, y_test_cat)\n",
    "# print(f\"Test Accuracy: {test_acc*100:.2f}%\")\n",
    "\n",
    "\n",
    "\n",
    "import os\n",
    "import cv2\n",
    "import numpy as np\n",
    "import tensorflow as tf\n",
    "from tensorflow.keras.models import Sequential\n",
    "from tensorflow.keras.layers import (Conv2D, MaxPooling2D, BatchNormalization, \n",
    "                                    Dropout, Dense, Flatten, GlobalAveragePooling2D)\n",
    "from tensorflow.keras.optimizers import Adam\n",
    "from tensorflow.keras.preprocessing.image import ImageDataGenerator\n",
    "from tensorflow.keras.utils import to_categorical\n",
    "from sklearn.model_selection import train_test_split\n",
    "from tensorflow.keras.callbacks import (EarlyStopping, ReduceLROnPlateau, \n",
    "                                      ModelCheckpoint, TensorBoard)\n",
    "from tensorflow.keras.regularizers import l2\n",
    "from tensorflow.keras.applications import EfficientNetB0\n",
    "from tensorflow.keras.models import Model\n",
    "import matplotlib.pyplot as plt\n",
    "\n",
    "# Data paths\n",
    "base_path = r'D:\\fake product\\Data'\n",
    "train_path = os.path.join(base_path, 'train')\n",
    "test_path = os.path.join(base_path, 'test')\n",
    "\n",
    "# Enhanced preprocessing function\n",
    "def preprocess_images(dataset_path, image_size=(224, 224)):\n",
    "    images = []\n",
    "    labels = []\n",
    "    classes = sorted(os.listdir(dataset_path))\n",
    "    class_map = {label: idx for idx, label in enumerate(classes)}\n",
    "    \n",
    "    for label in classes:\n",
    "        label_path = os.path.join(dataset_path, label)\n",
    "        for img_name in os.listdir(label_path):\n",
    "            img_path = os.path.join(label_path, img_name)\n",
    "            try:\n",
    "                img = cv2.imread(img_path)\n",
    "                if img is not None:\n",
    "                    img = cv2.cvtColor(img, cv2.COLOR_BGR2RGB)\n",
    "                    img = cv2.resize(img, image_size)\n",
    "                    \n",
    "                    # Apply CLAHE for contrast enhancement\n",
    "                    lab = cv2.cvtColor(img, cv2.COLOR_RGB2LAB)\n",
    "                    l, a, b = cv2.split(lab)\n",
    "                    clahe = cv2.createCLAHE(clipLimit=3.0, tileGridSize=(8,8))\n",
    "                    cl = clahe.apply(l)\n",
    "                    limg = cv2.merge((cl,a,b))\n",
    "                    img = cv2.cvtColor(limg, cv2.COLOR_LAB2RGB)\n",
    "                    \n",
    "                    images.append(img)\n",
    "                    labels.append(class_map[label])\n",
    "            except Exception as e:\n",
    "                print(f\"Error processing {img_path}: {str(e)}\")\n",
    "    \n",
    "    return np.array(images)/255.0, np.array(labels), class_map\n",
    "\n",
    "# Load data\n",
    "print(\"Loading and preprocessing data...\")\n",
    "X_train, y_train, class_map = preprocess_images(train_path)\n",
    "X_test, y_test, _ = preprocess_images(test_path)\n",
    "\n",
    "# Verify shapes\n",
    "print(f\"X_train: {X_train.shape}, y_train: {y_train.shape}\")\n",
    "\n",
    "# Split data\n",
    "X_train, X_val, y_train, y_val = train_test_split(\n",
    "    X_train, y_train, test_size=0.2, random_state=42, stratify=y_train)\n",
    "\n",
    "# Convert to categorical\n",
    "num_classes = len(class_map)\n",
    "print(f\"Number of classes: {num_classes}\")\n",
    "\n",
    "y_train_cat = to_categorical(y_train, num_classes=num_classes)\n",
    "y_val_cat = to_categorical(y_val, num_classes=num_classes)\n",
    "y_test_cat = to_categorical(y_test, num_classes=num_classes)\n",
    "\n",
    "# Data augmentation\n",
    "train_datagen = ImageDataGenerator(\n",
    "    rotation_range=30,\n",
    "    width_shift_range=0.2,\n",
    "    height_shift_range=0.2,\n",
    "    shear_range=0.2,\n",
    "    zoom_range=0.2,\n",
    "    horizontal_flip=True,\n",
    "    vertical_flip=True,\n",
    "    fill_mode='nearest'\n",
    ")\n",
    "\n",
    "# Transfer Learning with EfficientNet\n",
    "def create_transfer_model(input_shape=(224, 224, 3), num_classes=2):\n",
    "    base_model = EfficientNetB0(weights='imagenet', include_top=False, input_shape=input_shape)\n",
    "    \n",
    "    # Freeze initial layers\n",
    "    for layer in base_model.layers[:100]:\n",
    "        layer.trainable = False\n",
    "    \n",
    "    # Add custom head\n",
    "    x = base_model.output\n",
    "    x = GlobalAveragePooling2D()(x)\n",
    "    x = Dense(1024, activation='relu', kernel_regularizer=l2(0.01))(x)\n",
    "    x = Dropout(0.5)(x)\n",
    "    x = Dense(512, activation='relu', kernel_regularizer=l2(0.01))(x)\n",
    "    x = Dropout(0.3)(x)\n",
    "    predictions = Dense(num_classes, activation='softmax')(x)\n",
    "    \n",
    "    model = Model(inputs=base_model.input, outputs=predictions)\n",
    "    \n",
    "    return model\n",
    "\n",
    "# Create model\n",
    "model = create_transfer_model(input_shape=X_train.shape[1:], num_classes=num_classes)\n",
    "\n",
    "# Custom CNN Model (alternative)\n",
    "def create_cnn_model(input_shape=(224, 224, 3), num_classes=2):\n",
    "    model = Sequential([\n",
    "        Conv2D(32, (3,3), activation='relu', input_shape=input_shape, kernel_regularizer=l2(0.01)),\n",
    "        BatchNormalization(),\n",
    "        MaxPooling2D(2,2),\n",
    "        Dropout(0.25),\n",
    "        \n",
    "        Conv2D(64, (3,3), activation='relu', kernel_regularizer=l2(0.01)),\n",
    "        BatchNormalization(),\n",
    "        MaxPooling2D(2,2),\n",
    "        Dropout(0.25),\n",
    "        \n",
    "        Conv2D(128, (3,3), activation='relu', kernel_regularizer=l2(0.01)),\n",
    "        BatchNormalization(),\n",
    "        MaxPooling2D(2,2),\n",
    "        Dropout(0.25),\n",
    "        \n",
    "        Conv2D(256, (3,3), activation='relu', kernel_regularizer=l2(0.01)),\n",
    "        BatchNormalization(),\n",
    "        MaxPooling2D(2,2),\n",
    "        Dropout(0.25),\n",
    "        \n",
    "        GlobalAveragePooling2D(),\n",
    "        Dense(256, activation='relu', kernel_regularizer=l2(0.01)),\n",
    "        Dropout(0.5),\n",
    "        Dense(num_classes, activation='softmax')\n",
    "    ])\n",
    "    return model\n",
    "\n",
    "# Uncomment to use CNN instead of transfer learning\n",
    "# model = create_cnn_model(input_shape=X_train.shape[1:], num_classes=num_classes)\n",
    "\n",
    "# Compile model\n",
    "optimizer = Adam(learning_rate=0.0001)\n",
    "model.compile(optimizer=optimizer,\n",
    "             loss='categorical_crossentropy',\n",
    "             metrics=['accuracy', \n",
    "                    tf.keras.metrics.Precision(name='precision'),\n",
    "                    tf.keras.metrics.Recall(name='recall')])\n",
    "\n",
    "# Callbacks\n",
    "callbacks = [\n",
    "    EarlyStopping(patience=10, restore_best_weights=True, monitor='val_loss'),\n",
    "    ReduceLROnPlateau(factor=0.5, patience=3, min_lr=1e-6),\n",
    "    ModelCheckpoint('best_model.h5', save_best_only=True),\n",
    "    TensorBoard(log_dir='./logs')\n",
    "]\n",
    "\n",
    "# Train model\n",
    "print(\"Training model...\")\n",
    "history = model.fit(\n",
    "    train_datagen.flow(X_train, y_train_cat, batch_size=32),\n",
    "    epochs=100,\n",
    "    validation_data=(X_val, y_val_cat),\n",
    "    callbacks=callbacks,\n",
    "    verbose=1\n",
    ")\n",
    "\n",
    "# Evaluate\n",
    "print(\"Evaluating model...\")\n",
    "test_loss, test_acc, test_precision, test_recall = model.evaluate(X_test, y_test_cat)\n",
    "print(f\"\\nTest Accuracy: {test_acc*100:.2f}%\")\n",
    "print(f\"Test Precision: {test_precision*100:.2f}%\")\n",
    "print(f\"Test Recall: {test_recall*100:.2f}%\")\n",
    "\n",
    "# Plot training history\n",
    "plt.figure(figsize=(12, 4))\n",
    "plt.subplot(1, 2, 1)\n",
    "plt.plot(history.history['accuracy'], label='Train Accuracy')\n",
    "plt.plot(history.history['val_accuracy'], label='Validation Accuracy')\n",
    "plt.title('Accuracy over Epochs')\n",
    "plt.legend()\n",
    "\n",
    "plt.subplot(1, 2, 2)\n",
    "plt.plot(history.history['loss'], label='Train Loss')\n",
    "plt.plot(history.history['val_loss'], label='Validation Loss')\n",
    "plt.title('Loss over Epochs')\n",
    "plt.legend()\n",
    "plt.tight_layout()\n",
    "plt.savefig('training_history.png')\n",
    "plt.show()\n",
    "\n",
    "# Save model\n",
    "model.save('fake_product_detection_model.h5')\n",
    "print(\"Model saved as fake_product_detection_model.h5\")\n",
    "\n",
    "# Generate class map file\n",
    "import json\n",
    "with open('class_map.json', 'w') as f:\n",
    "    json.dump(class_map, f)\n",
    "print(\"Class map saved as class_map.json\")"
   ]
  },
  {
   "cell_type": "markdown",
   "metadata": {},
   "source": []
  },
  {
   "cell_type": "code",
   "execution_count": null,
   "metadata": {},
   "outputs": [],
   "source": []
  }
 ],
 "metadata": {
  "kernelspec": {
   "display_name": "Python 3",
   "language": "python",
   "name": "python3"
  },
  "language_info": {
   "codemirror_mode": {
    "name": "ipython",
    "version": 3
   },
   "file_extension": ".py",
   "mimetype": "text/x-python",
   "name": "python",
   "nbconvert_exporter": "python",
   "pygments_lexer": "ipython3",
   "version": "3.11.9"
  }
 },
 "nbformat": 4,
 "nbformat_minor": 2
}
